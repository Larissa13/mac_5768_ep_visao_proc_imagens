{
 "cells": [
  {
   "cell_type": "markdown",
   "metadata": {},
   "source": [
    "# MAC 5768 - Projeto EP - Parte 1 \n",
    "\n",
    "\n",
    "\n",
    "\n",
    "#### Grupo:\n",
    "- Ysabelle Pinheiro de Sousa - ysabellesousa@gmail.com - 11341314\n",
    "- Roberto Gaui \n",
    "- Joaquin Lorenzo Pereira Condori\n",
    "\n",
    "\n",
    "####  Link para repositório projeto: \n",
    "\n",
    "https://github.com/YsabelleSousa/mac_5768_ep_visao_proc_imagens\n",
    "\n",
    "#### Instrução para download dos dados:\n",
    "\n",
    "Link: https://drive.google.com/file/d/1j9RSKIKmOTkDJt0_ASO3968sTrslPZs1/view?usp=sharing\n",
    "\n",
    "**1)** Gerar o link compartilhável da pasta zipada no google drive\n",
    "\n",
    "**2)** Atribuir o ID que está no link compartilhável à variável \"id_google_drive\" na seção \"Baixando Dados\"\n",
    "\n",
    "**3)** Escolher o path de destino e atribuir à variável \"path_destination\" na seção \"Baixando Dados\"\n",
    "\n",
    "**4)** Executar a função \"download_file_from_google_drive\"\n"
   ]
  },
  {
   "cell_type": "markdown",
   "metadata": {},
   "source": [
    "## Importando Bibliotecas"
   ]
  },
  {
   "cell_type": "code",
   "execution_count": 5,
   "metadata": {},
   "outputs": [],
   "source": [
    "import pandas as pd\n",
    "from utils import utils\n",
    "from google_drive_downloader import GoogleDriveDownloader as gdd\n",
    "\n",
    "import os\n",
    "import sys"
   ]
  },
  {
   "cell_type": "markdown",
   "metadata": {},
   "source": [
    "## Baixando Dados"
   ]
  },
  {
   "cell_type": "code",
   "execution_count": 6,
   "metadata": {},
   "outputs": [],
   "source": [
    "id_google_drive = '1XkKYNmaP6wIfuiwcDloAgaQc9POxGosk'\n",
    "path_destination = 'data/EP1.zip'\n"
   ]
  },
  {
   "cell_type": "code",
   "execution_count": null,
   "metadata": {},
   "outputs": [],
   "source": [
    "gdd.download_file_from_google_drive(file_id = id_google_drive,\n",
    "                                    dest_path = path_destination,\n",
    "                                    unzip = True,\n",
    "                                    showsize = True,\n",
    "                                    overwrite=False)\n"
   ]
  },
  {
   "cell_type": "markdown",
   "metadata": {},
   "source": [
    "## Extraindo informações para DF"
   ]
  },
  {
   "cell_type": "code",
   "execution_count": 7,
   "metadata": {},
   "outputs": [],
   "source": [
    "df_dados = pd.DataFrame(columns = ['classe','num_objeto','tp_fundo','dia_noite','dentro_fora','num_repeticao','extensao'])"
   ]
  },
  {
   "cell_type": "code",
   "execution_count": 20,
   "metadata": {},
   "outputs": [],
   "source": [
    "for root, subdirs, files in os.walk(os.path.abspath('data/EP1_V2')):\n",
    "    \n",
    "    for file in files:\n",
    "        if file.count('_') == 5:\n",
    "            df_dados = df_dados.append({\n",
    "            \n",
    "                        'classe': file.split('_')[0],\n",
    "                        'num_objeto': file.split('_')[1],\n",
    "                        'tp_fundo': file.split('_')[2],\n",
    "                        'dia_noite': file.split('_')[3],\n",
    "                        'dentro_fora': file.split('_')[4],\n",
    "                        'num_repeticao': file.split('_')[5].split('.')[0],\n",
    "                        'extensao': file.split('_')[5].split('.')[1],\n",
    "            }, ignore_index=True)"
   ]
  },
  {
   "cell_type": "code",
   "execution_count": 21,
   "metadata": {},
   "outputs": [
    {
     "data": {
      "text/html": [
       "<div>\n",
       "<style scoped>\n",
       "    .dataframe tbody tr th:only-of-type {\n",
       "        vertical-align: middle;\n",
       "    }\n",
       "\n",
       "    .dataframe tbody tr th {\n",
       "        vertical-align: top;\n",
       "    }\n",
       "\n",
       "    .dataframe thead th {\n",
       "        text-align: right;\n",
       "    }\n",
       "</style>\n",
       "<table border=\"1\" class=\"dataframe\">\n",
       "  <thead>\n",
       "    <tr style=\"text-align: right;\">\n",
       "      <th></th>\n",
       "      <th>classe</th>\n",
       "      <th>num_objeto</th>\n",
       "      <th>tp_fundo</th>\n",
       "      <th>dia_noite</th>\n",
       "      <th>dentro_fora</th>\n",
       "      <th>num_repeticao</th>\n",
       "      <th>extensao</th>\n",
       "    </tr>\n",
       "  </thead>\n",
       "  <tbody>\n",
       "    <tr>\n",
       "      <th>0</th>\n",
       "      <td>colher</td>\n",
       "      <td>3</td>\n",
       "      <td>laranja</td>\n",
       "      <td>noite</td>\n",
       "      <td>fora</td>\n",
       "      <td>3</td>\n",
       "      <td>jpg</td>\n",
       "    </tr>\n",
       "    <tr>\n",
       "      <th>1</th>\n",
       "      <td>colher</td>\n",
       "      <td>2</td>\n",
       "      <td>laranja</td>\n",
       "      <td>dia</td>\n",
       "      <td>dentro</td>\n",
       "      <td>2</td>\n",
       "      <td>jpg</td>\n",
       "    </tr>\n",
       "    <tr>\n",
       "      <th>2</th>\n",
       "      <td>colher</td>\n",
       "      <td>1</td>\n",
       "      <td>azul</td>\n",
       "      <td>dia</td>\n",
       "      <td>dentro</td>\n",
       "      <td>1</td>\n",
       "      <td>jpg</td>\n",
       "    </tr>\n",
       "    <tr>\n",
       "      <th>3</th>\n",
       "      <td>colher</td>\n",
       "      <td>1</td>\n",
       "      <td>azul</td>\n",
       "      <td>noite</td>\n",
       "      <td>dentro</td>\n",
       "      <td>1</td>\n",
       "      <td>jpg</td>\n",
       "    </tr>\n",
       "    <tr>\n",
       "      <th>4</th>\n",
       "      <td>colher</td>\n",
       "      <td>1</td>\n",
       "      <td>laranja</td>\n",
       "      <td>dia</td>\n",
       "      <td>fora</td>\n",
       "      <td>3</td>\n",
       "      <td>jpg</td>\n",
       "    </tr>\n",
       "    <tr>\n",
       "      <th>...</th>\n",
       "      <td>...</td>\n",
       "      <td>...</td>\n",
       "      <td>...</td>\n",
       "      <td>...</td>\n",
       "      <td>...</td>\n",
       "      <td>...</td>\n",
       "      <td>...</td>\n",
       "    </tr>\n",
       "    <tr>\n",
       "      <th>319</th>\n",
       "      <td>celular</td>\n",
       "      <td>2</td>\n",
       "      <td>branco</td>\n",
       "      <td>dia</td>\n",
       "      <td>fora</td>\n",
       "      <td>3</td>\n",
       "      <td>jpg</td>\n",
       "    </tr>\n",
       "    <tr>\n",
       "      <th>320</th>\n",
       "      <td>celular</td>\n",
       "      <td>3</td>\n",
       "      <td>branco</td>\n",
       "      <td>noite</td>\n",
       "      <td>dentro</td>\n",
       "      <td>2</td>\n",
       "      <td>jpg</td>\n",
       "    </tr>\n",
       "    <tr>\n",
       "      <th>321</th>\n",
       "      <td>celular</td>\n",
       "      <td>3</td>\n",
       "      <td>laranja</td>\n",
       "      <td>dia</td>\n",
       "      <td>fora</td>\n",
       "      <td>1</td>\n",
       "      <td>jpg</td>\n",
       "    </tr>\n",
       "    <tr>\n",
       "      <th>322</th>\n",
       "      <td>celular</td>\n",
       "      <td>2</td>\n",
       "      <td>branco</td>\n",
       "      <td>dia</td>\n",
       "      <td>fora</td>\n",
       "      <td>2</td>\n",
       "      <td>jpg</td>\n",
       "    </tr>\n",
       "    <tr>\n",
       "      <th>323</th>\n",
       "      <td>celular</td>\n",
       "      <td>3</td>\n",
       "      <td>branco</td>\n",
       "      <td>noite</td>\n",
       "      <td>dentro</td>\n",
       "      <td>3</td>\n",
       "      <td>jpg</td>\n",
       "    </tr>\n",
       "  </tbody>\n",
       "</table>\n",
       "<p>324 rows × 7 columns</p>\n",
       "</div>"
      ],
      "text/plain": [
       "      classe num_objeto tp_fundo dia_noite dentro_fora num_repeticao extensao\n",
       "0     colher          3  laranja     noite        fora             3      jpg\n",
       "1     colher          2  laranja       dia      dentro             2      jpg\n",
       "2     colher          1     azul       dia      dentro             1      jpg\n",
       "3     colher          1     azul     noite      dentro             1      jpg\n",
       "4     colher          1  laranja       dia        fora             3      jpg\n",
       "..       ...        ...      ...       ...         ...           ...      ...\n",
       "319  celular          2   branco       dia        fora             3      jpg\n",
       "320  celular          3   branco     noite      dentro             2      jpg\n",
       "321  celular          3  laranja       dia        fora             1      jpg\n",
       "322  celular          2   branco       dia        fora             2      jpg\n",
       "323  celular          3   branco     noite      dentro             3      jpg\n",
       "\n",
       "[324 rows x 7 columns]"
      ]
     },
     "execution_count": 21,
     "metadata": {},
     "output_type": "execute_result"
    }
   ],
   "source": [
    "df_dados"
   ]
  },
  {
   "cell_type": "markdown",
   "metadata": {},
   "source": [
    "## Tabela Sumária Global"
   ]
  },
  {
   "cell_type": "code",
   "execution_count": 22,
   "metadata": {},
   "outputs": [],
   "source": [
    "df_tbl_sumaria = pd.DataFrame(columns=['num_classes','num_imagens','tamanho_base_mb','extensoes_imagens'])\n",
    "                              "
   ]
  },
  {
   "cell_type": "code",
   "execution_count": 26,
   "metadata": {},
   "outputs": [],
   "source": [
    "df_tbl_sumaria = df_tbl_sumaria.append({\n",
    "    'num_classes': df_dados['classe'].nunique(),\n",
    "    'num_imagens': len(df_dados),\n",
    "    'tamanho_base_mb': utils.return_folder_size_mb('data/EP1_V2'),\n",
    "    'extensoes_imagens': df_dados['extensao'].unique()\n",
    "}, ignore_index=True)"
   ]
  },
  {
   "cell_type": "code",
   "execution_count": 27,
   "metadata": {},
   "outputs": [
    {
     "data": {
      "text/html": [
       "<div>\n",
       "<style scoped>\n",
       "    .dataframe tbody tr th:only-of-type {\n",
       "        vertical-align: middle;\n",
       "    }\n",
       "\n",
       "    .dataframe tbody tr th {\n",
       "        vertical-align: top;\n",
       "    }\n",
       "\n",
       "    .dataframe thead th {\n",
       "        text-align: right;\n",
       "    }\n",
       "</style>\n",
       "<table border=\"1\" class=\"dataframe\">\n",
       "  <thead>\n",
       "    <tr style=\"text-align: right;\">\n",
       "      <th></th>\n",
       "      <th>num_classes</th>\n",
       "      <th>num_imagens</th>\n",
       "      <th>tamanho_base_mb</th>\n",
       "      <th>extensoes_imagens</th>\n",
       "    </tr>\n",
       "  </thead>\n",
       "  <tbody>\n",
       "    <tr>\n",
       "      <th>0</th>\n",
       "      <td>3</td>\n",
       "      <td>324</td>\n",
       "      <td>665.77</td>\n",
       "      <td>[jpg]</td>\n",
       "    </tr>\n",
       "  </tbody>\n",
       "</table>\n",
       "</div>"
      ],
      "text/plain": [
       "  num_classes num_imagens  tamanho_base_mb extensoes_imagens\n",
       "0           3         324           665.77             [jpg]"
      ]
     },
     "execution_count": 27,
     "metadata": {},
     "output_type": "execute_result"
    }
   ],
   "source": [
    "df_tbl_sumaria"
   ]
  },
  {
   "cell_type": "markdown",
   "metadata": {},
   "source": [
    "## Tabela Sumária Detalhada"
   ]
  },
  {
   "cell_type": "code",
   "execution_count": 28,
   "metadata": {},
   "outputs": [],
   "source": [
    "df_tbl_sumaria_detalhada = df_dados.groupby('classe', as_index=False).agg({\n",
    "    'num_objeto': pd.Series.nunique,\n",
    "    'tp_fundo': lambda x: dict(x.value_counts()),\n",
    "    'dia_noite': lambda x: dict(x.value_counts()),\n",
    "    'dentro_fora': lambda x: dict(x.value_counts()),\n",
    "    'num_repeticao': 'nunique',\n",
    "    'extensao': 'count'\n",
    "})"
   ]
  },
  {
   "cell_type": "code",
   "execution_count": 29,
   "metadata": {},
   "outputs": [
    {
     "data": {
      "text/html": [
       "<div>\n",
       "<style scoped>\n",
       "    .dataframe tbody tr th:only-of-type {\n",
       "        vertical-align: middle;\n",
       "    }\n",
       "\n",
       "    .dataframe tbody tr th {\n",
       "        vertical-align: top;\n",
       "    }\n",
       "\n",
       "    .dataframe thead th {\n",
       "        text-align: right;\n",
       "    }\n",
       "</style>\n",
       "<table border=\"1\" class=\"dataframe\">\n",
       "  <thead>\n",
       "    <tr style=\"text-align: right;\">\n",
       "      <th></th>\n",
       "      <th>classe</th>\n",
       "      <th>num_objeto</th>\n",
       "      <th>tp_fundo</th>\n",
       "      <th>dia_noite</th>\n",
       "      <th>dentro_fora</th>\n",
       "      <th>num_repeticao</th>\n",
       "      <th>extensao</th>\n",
       "    </tr>\n",
       "  </thead>\n",
       "  <tbody>\n",
       "    <tr>\n",
       "      <th>0</th>\n",
       "      <td>caneca</td>\n",
       "      <td>3</td>\n",
       "      <td>{'azul': 36, 'laranja': 36, 'branco': 36}</td>\n",
       "      <td>{'noite': 54, 'dia': 54}</td>\n",
       "      <td>{'fora': 54, 'dentro': 54}</td>\n",
       "      <td>3</td>\n",
       "      <td>108</td>\n",
       "    </tr>\n",
       "    <tr>\n",
       "      <th>1</th>\n",
       "      <td>celular</td>\n",
       "      <td>3</td>\n",
       "      <td>{'azul': 36, 'branco': 36, 'laranja': 36}</td>\n",
       "      <td>{'noite': 54, 'dia': 54}</td>\n",
       "      <td>{'fora': 54, 'dentro': 54}</td>\n",
       "      <td>3</td>\n",
       "      <td>108</td>\n",
       "    </tr>\n",
       "    <tr>\n",
       "      <th>2</th>\n",
       "      <td>colher</td>\n",
       "      <td>3</td>\n",
       "      <td>{'azul': 36, 'laranja': 36, 'branco': 36}</td>\n",
       "      <td>{'noite': 54, 'dia': 54}</td>\n",
       "      <td>{'fora': 54, 'dentro': 54}</td>\n",
       "      <td>3</td>\n",
       "      <td>108</td>\n",
       "    </tr>\n",
       "  </tbody>\n",
       "</table>\n",
       "</div>"
      ],
      "text/plain": [
       "    classe  num_objeto                                   tp_fundo  \\\n",
       "0   caneca           3  {'azul': 36, 'laranja': 36, 'branco': 36}   \n",
       "1  celular           3  {'azul': 36, 'branco': 36, 'laranja': 36}   \n",
       "2   colher           3  {'azul': 36, 'laranja': 36, 'branco': 36}   \n",
       "\n",
       "                  dia_noite                 dentro_fora  num_repeticao  \\\n",
       "0  {'noite': 54, 'dia': 54}  {'fora': 54, 'dentro': 54}              3   \n",
       "1  {'noite': 54, 'dia': 54}  {'fora': 54, 'dentro': 54}              3   \n",
       "2  {'noite': 54, 'dia': 54}  {'fora': 54, 'dentro': 54}              3   \n",
       "\n",
       "   extensao  \n",
       "0       108  \n",
       "1       108  \n",
       "2       108  "
      ]
     },
     "execution_count": 29,
     "metadata": {},
     "output_type": "execute_result"
    }
   ],
   "source": [
    "df_tbl_sumaria_detalhada"
   ]
  },
  {
   "cell_type": "code",
   "execution_count": 30,
   "metadata": {},
   "outputs": [],
   "source": [
    "df_tbl_sumaria_detalhada.columns = ['classe','qtd_objetos','variacoes_fundo','variacoes_iluminacao_externa','variacoes_iluminacao_local','qtd_repeticoes','total_amostras']"
   ]
  },
  {
   "cell_type": "code",
   "execution_count": 31,
   "metadata": {},
   "outputs": [
    {
     "data": {
      "text/html": [
       "<div>\n",
       "<style scoped>\n",
       "    .dataframe tbody tr th:only-of-type {\n",
       "        vertical-align: middle;\n",
       "    }\n",
       "\n",
       "    .dataframe tbody tr th {\n",
       "        vertical-align: top;\n",
       "    }\n",
       "\n",
       "    .dataframe thead th {\n",
       "        text-align: right;\n",
       "    }\n",
       "</style>\n",
       "<table border=\"1\" class=\"dataframe\">\n",
       "  <thead>\n",
       "    <tr style=\"text-align: right;\">\n",
       "      <th></th>\n",
       "      <th>classe</th>\n",
       "      <th>qtd_objetos</th>\n",
       "      <th>variacoes_fundo</th>\n",
       "      <th>variacoes_iluminacao_externa</th>\n",
       "      <th>variacoes_iluminacao_local</th>\n",
       "      <th>qtd_repeticoes</th>\n",
       "      <th>total_amostras</th>\n",
       "    </tr>\n",
       "  </thead>\n",
       "  <tbody>\n",
       "    <tr>\n",
       "      <th>0</th>\n",
       "      <td>caneca</td>\n",
       "      <td>3</td>\n",
       "      <td>{'azul': 36, 'laranja': 36, 'branco': 36}</td>\n",
       "      <td>{'noite': 54, 'dia': 54}</td>\n",
       "      <td>{'fora': 54, 'dentro': 54}</td>\n",
       "      <td>3</td>\n",
       "      <td>108</td>\n",
       "    </tr>\n",
       "    <tr>\n",
       "      <th>1</th>\n",
       "      <td>celular</td>\n",
       "      <td>3</td>\n",
       "      <td>{'azul': 36, 'branco': 36, 'laranja': 36}</td>\n",
       "      <td>{'noite': 54, 'dia': 54}</td>\n",
       "      <td>{'fora': 54, 'dentro': 54}</td>\n",
       "      <td>3</td>\n",
       "      <td>108</td>\n",
       "    </tr>\n",
       "    <tr>\n",
       "      <th>2</th>\n",
       "      <td>colher</td>\n",
       "      <td>3</td>\n",
       "      <td>{'azul': 36, 'laranja': 36, 'branco': 36}</td>\n",
       "      <td>{'noite': 54, 'dia': 54}</td>\n",
       "      <td>{'fora': 54, 'dentro': 54}</td>\n",
       "      <td>3</td>\n",
       "      <td>108</td>\n",
       "    </tr>\n",
       "  </tbody>\n",
       "</table>\n",
       "</div>"
      ],
      "text/plain": [
       "    classe  qtd_objetos                            variacoes_fundo  \\\n",
       "0   caneca            3  {'azul': 36, 'laranja': 36, 'branco': 36}   \n",
       "1  celular            3  {'azul': 36, 'branco': 36, 'laranja': 36}   \n",
       "2   colher            3  {'azul': 36, 'laranja': 36, 'branco': 36}   \n",
       "\n",
       "  variacoes_iluminacao_externa  variacoes_iluminacao_local  qtd_repeticoes  \\\n",
       "0     {'noite': 54, 'dia': 54}  {'fora': 54, 'dentro': 54}               3   \n",
       "1     {'noite': 54, 'dia': 54}  {'fora': 54, 'dentro': 54}               3   \n",
       "2     {'noite': 54, 'dia': 54}  {'fora': 54, 'dentro': 54}               3   \n",
       "\n",
       "   total_amostras  \n",
       "0             108  \n",
       "1             108  \n",
       "2             108  "
      ]
     },
     "execution_count": 31,
     "metadata": {},
     "output_type": "execute_result"
    }
   ],
   "source": [
    "df_tbl_sumaria_detalhada"
   ]
  }
 ],
 "metadata": {
  "kernelspec": {
   "display_name": "Python 3",
   "language": "python",
   "name": "python3"
  },
  "language_info": {
   "codemirror_mode": {
    "name": "ipython",
    "version": 3
   },
   "file_extension": ".py",
   "mimetype": "text/x-python",
   "name": "python",
   "nbconvert_exporter": "python",
   "pygments_lexer": "ipython3",
   "version": "3.7.6"
  },
  "toc": {
   "base_numbering": 1,
   "nav_menu": {},
   "number_sections": true,
   "sideBar": true,
   "skip_h1_title": false,
   "title_cell": "Table of Contents",
   "title_sidebar": "Contents",
   "toc_cell": false,
   "toc_position": {},
   "toc_section_display": true,
   "toc_window_display": false
  }
 },
 "nbformat": 4,
 "nbformat_minor": 4
}
